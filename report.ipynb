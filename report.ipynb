{
 "cells": [
  {
   "cell_type": "markdown",
   "metadata": {},
   "source": [
    "# Assignment 1 : Text Classification.\n",
    " \n",
    "This file contains the second bullet point of part A, the derivation of the gradient of the objective function of logistsic regression. \n",
    "\n",
    "The implementations can be found in the respective files. \n",
    "- regression.py : Logistic Regression. \n",
    "- multiclass_regression.py : Multi-class Regression. \n"
   ]
  },
  {
   "cell_type": "markdown",
   "metadata": {},
   "source": [
    "# 1. Data Preprocessing:"
   ]
  },
  {
   "cell_type": "markdown",
   "metadata": {},
   "source": [
    "## 1.1 Load Data"
   ]
  },
  {
   "cell_type": "code",
   "execution_count": 1,
   "metadata": {},
   "outputs": [
    {
     "name": "stderr",
     "output_type": "stream",
     "text": [
      "[nltk_data] Downloading package punkt to /home/testme/nltk_data...\n",
      "[nltk_data]   Package punkt is already up-to-date!\n",
      "[nltk_data] Downloading package stopwords to /home/testme/nltk_data...\n",
      "[nltk_data]   Package stopwords is already up-to-date!\n"
     ]
    }
   ],
   "source": [
    "from data_preprocessing import SMSSpamPreprocessor \n",
    "from data_preprocessing import TextPreprocessor as PP\n",
    "import pandas as pd"
   ]
  },
  {
   "cell_type": "code",
   "execution_count": 2,
   "metadata": {},
   "outputs": [
    {
     "name": "stdout",
     "output_type": "stream",
     "text": [
      "['Go until jurong point, crazy.. Available only in bugis n great world la e buffet... Cine there got amore wat...', 'Ok lar... Joking wif u oni...', \"Free entry in 2 a wkly comp to win FA Cup final tkts 21st May 2005. Text FA to 87121 to receive entry question(std txt rate)T&C's apply 08452810075over18's\", 'U dun say so early hor... U c already then say...', \"Nah I don't think he goes to usf, he lives around here though\"]\n",
      "['ham', 'ham', 'spam', 'ham', 'ham']\n"
     ]
    }
   ],
   "source": [
    "\"\"\" Write each line to seperate list \"\"\"\n",
    "SMS_Preprocessor = SMSSpamPreprocessor()\n",
    "sentences, labels = SMS_Preprocessor.load_data_from_file(filepath=\"data/SMSSpamCollection\")\n",
    "print(sentences[:5])\n",
    "print(labels[:5])"
   ]
  },
  {
   "cell_type": "markdown",
   "metadata": {},
   "source": [
    "## 1.2 Label Distribution.\n",
    "Should watch out for model over-fitting to ham"
   ]
  },
  {
   "cell_type": "code",
   "execution_count": 3,
   "metadata": {},
   "outputs": [
    {
     "name": "stdout",
     "output_type": "stream",
     "text": [
      "📬 Loaded SMS Spam data 📬 from file. With \n",
      " 5574 sentences and \n",
      " 5574 labels \n"
     ]
    }
   ],
   "source": [
    "\"\"\" Get Data Split \"\"\"\n",
    "data_split = SMS_Preprocessor.get_data_splits()"
   ]
  },
  {
   "cell_type": "markdown",
   "metadata": {},
   "source": [
    "## 1.3 Preprocessing Data\n",
    "- Remove punctuation, urls, numbers, Change text to lower case. \n"
   ]
  },
  {
   "cell_type": "code",
   "execution_count": 4,
   "metadata": {},
   "outputs": [
    {
     "name": "stdout",
     "output_type": "stream",
     "text": [
      "Sweeping for examples ...🧹🧹\n",
      "                                                   text label\n",
      "1705  What can i do? Might accidant tookplace betwee...   ham\n",
      "4276  Haiyoh... Maybe your hamster was jealous of mi...   ham\n",
      "1739                 K go and sleep well. Take rest:-).   ham\n",
      "5431  Er yeah, i will b there at 15:26, sorry! Just ...   ham\n",
      "3365    Yo my trip got postponed, you still stocked up?   ham\n",
      "Cleaning...🧼🧼\n",
      "1705    what can i do might accidant tookplace between...\n",
      "4276     haiyoh maybe your hamster was jealous of million\n",
      "1739                        k go and sleep well take rest\n",
      "5431    er yeah i will b there at  sorry just tell me ...\n",
      "3365        yo my trip got postponed you still stocked up\n",
      "Name: text, dtype: object\n"
     ]
    }
   ],
   "source": [
    "TextPreprocessor = PP(sentences, labels)\n",
    "data_series = pd.Series(sentences, name=\"text\")\n",
    "labels_series = pd.Series(labels, name=\"label\")\n",
    "df = pd.DataFrame({\"text\": data_series, \"label\": labels_series})\n",
    "# Examples of Punctuation, Urls and Numbers\n",
    "sentence_with_punctuation = df[\"text\"].str.contains(r'[^\\w\\s]', regex=True)\n",
    "sentence_with_urls = df[\"text\"].str.contains(r'http[s]?://', regex=True)\n",
    "sentence_with_numbers = df[\"text\"].str.contains(r'\\d', regex=True)\n",
    "example_df = df[sentence_with_punctuation | sentence_with_urls | sentence_with_numbers].sample(5)\n",
    "print(\"Sweeping for examples ...🧹🧹\")\n",
    "print(example_df.head())\n",
    "\n",
    "\"\"\" Clean Text, run a few times to see the difference for each \"\"\"\n",
    "print(\"Cleaning...🧼🧼\")\n",
    "cleaned_text = TextPreprocessor._clean_text(text=example_df[\"text\"])\n",
    "print(cleaned_text[:5])"
   ]
  },
  {
   "cell_type": "markdown",
   "metadata": {},
   "source": [
    "### 1.3.1 Tokenize And Remove Stopwords "
   ]
  },
  {
   "cell_type": "code",
   "execution_count": 5,
   "metadata": {},
   "outputs": [
    {
     "name": "stdout",
     "output_type": "stream",
     "text": [
      "Stop word examples...🚫🚫\n",
      "['i', 'me', 'my', 'myself', 'we']\n",
      "Tokenizing and stemming...🌿🌿\n",
      "1705    might accid tookplac somewher ghodbandar rd tr...\n",
      "4276                   haiyoh mayb hamster jealou million\n",
      "1739                            k go sleep well take rest\n",
      "5431           er yeah b sorri tell pubcaf sit come wen u\n",
      "3365                      yo trip got postpon still stock\n",
      "Name: text, dtype: object\n"
     ]
    }
   ],
   "source": [
    "# Stop word Examples: 'i' should be the easiest to see removed\n",
    "print(\"Stop word examples...🚫🚫\")\n",
    "stop_words = TextPreprocessor._stop_words\n",
    "print(stop_words[:5])\n",
    "print(\"Tokenizing and stemming...🌿🌿\")\n",
    "tokenized_text = TextPreprocessor._tokenize_and_stem(text=cleaned_text)\n",
    "print(tokenized_text[:5])\n"
   ]
  },
  {
   "cell_type": "markdown",
   "metadata": {},
   "source": [
    "### 1.3.2 Build TF-IDF Vector"
   ]
  },
  {
   "cell_type": "code",
   "execution_count": 6,
   "metadata": {},
   "outputs": [
    {
     "name": "stdout",
     "output_type": "stream",
     "text": [
      "Example Sentence: haiyoh mayb hamster jealou million\n",
      "Creating TF-IDF Vector...✨✨\n",
      "Pretty Printing TF-IDF Vector...✨✨\n",
      "                0\n",
      "haiyoh   0.497480\n",
      "hamster  0.474900\n",
      "jealou   0.458878\n",
      "mayb     0.325338\n",
      "million  0.458878\n"
     ]
    }
   ],
   "source": [
    "example_sentence = tokenized_text.iloc[1] \n",
    "print(\"Example Sentence: \" + example_sentence)\n",
    "print(\"Creating TF-IDF Vector...✨✨\")\n",
    "# I have already fitted the vectorizer to the training data, when calling get Data Split\n",
    "# Transform the Sentence\n",
    "tfidf_vector = SMS_Preprocessor.preprocessor._vectorizer.transform([example_sentence])\n",
    "# Pretty print the TF-IDF vector\n",
    "print(\"Pretty Printing TF-IDF Vector...✨✨\")\n",
    "dense_tfidf = tfidf_vector.todense()\n",
    "feature_names = SMS_Preprocessor.preprocessor._vectorizer.get_feature_names_out()\n",
    "tfidf_df = pd.DataFrame(dense_tfidf, columns=feature_names)\n",
    "# Filter out zero values\n",
    "non_zero_tfidf_df = tfidf_df.T[tfidf_df.T[0] != 0]\n",
    "print(non_zero_tfidf_df)"
   ]
  },
  {
   "cell_type": "markdown",
   "metadata": {},
   "source": [
    "## 1.4 Easy pipeline/usage"
   ]
  },
  {
   "cell_type": "code",
   "execution_count": 7,
   "metadata": {},
   "outputs": [
    {
     "name": "stdout",
     "output_type": "stream",
     "text": [
      "📬 Loaded SMS Spam data 📬 from file. With \n",
      " 5574 sentences and \n",
      " 5574 labels \n"
     ]
    },
    {
     "data": {
      "image/png": "[encoded data removed]",
      "text/plain": [
       "<Figure size 1000x500 with 1 Axes>"
      ]
     },
     "metadata": {},
     "output_type": "display_data"
    },
    {
     "data": {
      "image/png": "[encoded data removed]",
      "text/plain": [
       "<Figure size 1000x500 with 1 Axes>"
      ]
     },
     "metadata": {},
     "output_type": "display_data"
    }
   ],
   "source": [
    "# Create the Preprocessor\n",
    "# Extracts the data.\n",
    "DataPreprocessor = SMSSpamPreprocessor(report=True)\n",
    "# Preprocesses and splits the data.\n",
    "data_split = DataPreprocessor.get_data_splits()\n",
    "# Getting Data Splits\n",
    "X_train, Y_train = data_split[\"train\"]\n",
    "X_test, Y_test = data_split[\"test\"]\n",
    "X_val, Y_val = data_split[\"val\"]\n"
   ]
  },
  {
   "cell_type": "markdown",
   "metadata": {},
   "source": [
    "# 1.5 Logistic Regression. "
   ]
  },
  {
   "cell_type": "markdown",
   "metadata": {},
   "source": [
    "# 1.5.1 Derivation of Objective Function\n",
    "We want to find the derivation of the Objective function with respect to $w$ and $b$ . Lets represent the Objective function $J$ as\n",
    "$$   J_{loss}(w,b) = \\sum_{i=1}^{N} l_i + R(w) $$\n",
    "Where $l_i$ is \n",
    "$$ l_{i} = -[y*log(\\hat{y}) + (1-y)*log(1-\\hat{y})] $$\n",
    "And R is the l2 regularization term\n",
    "$$  R(w) = \\lambda\\sum_{j=i}^{d} w_j^2 $$\n",
    "## (1.5.1).1 Derivative of $l_i$\n",
    "Using the chain rule, the function has a derivative of \n",
    "$$ \\frac{\\partial l}{\\partial w}= \\frac{\\partial l}{\\partial z} * \\frac{\\partial z}{\\partial w} $$\n",
    "Similarly for $b$\n",
    "$$ \\frac{\\partial l}{\\partial b}= \\frac{\\partial l}{\\partial z} * \\frac{\\partial z}{\\partial b} $$\n",
    "### (1.5.1.1).1 First we will find $\\frac{\\partial l}{\\partial z}$ which is equal to\n",
    "$$ \\frac{\\partial l}{\\partial z} = \\frac{\\partial l}{\\partial \\hat{y}} * \\frac{\\partial \\hat{y}}{\\partial z} $$\n",
    "#### (1.5.1.1.1).1 We will find $\\frac{\\partial l}{\\partial \\hat{y}}$ first\n",
    "$$ {\\frac{\\partial l}{\\partial \\hat{y}}} = {-y_i \\over \\hat{y_i}} + {(1-y_i) \\over (1-\\hat{y_i})} $$\n",
    "Since we know that $\\frac{d}{dx}[ln(x)y]={y \\over x}$\n",
    "#### (1.5.1.1.1).2 Next We will find $\\frac{\\partial \\hat{y}}{\\partial z}$ which is the Derivative of the Sigmoid function. \n",
    "We want to find\n",
    "$$\\frac{d}{dz}[{1 \\over 1 + e^{-z}}] = \\frac{d}{dz}[(1+e^{-z})^{-1}] $$\n",
    "Using the **Reciprocal Rule** we find that \n",
    "$$ \\frac{d}{dz}[(1+e^{-z})^{-1}] = -(1+e^{-z})^{-2} * \\frac{d}{dz}[(1+e^{-z})] $$\n",
    "The first term $(1+e^{-z})^{-2}$ Will be used in the final calculation. \n",
    "Calculating the other term gives\n",
    "$$ \\frac{d}{dz}[1] + \\frac{d}{dz}[e^{-z}]$$\n",
    "The 1 is dropped out and the $[e^{-z}]$ term derivates to \n",
    "$$ e^{-z} * \\frac{d}{dz}[-z] $$\n",
    "Given that the last term here is $-1$ Lets combine $-e^{-z}$ with $(1+e^{-z})^{-2}$ from earlier\n",
    "$$\\frac{d}{dz}[(1+e^{-z})^{-1}]= { e^{-x} \\over (1+e^{-z})^2} $$\n",
    "This is the final derivation of the sigmoid function, however rearranging the terms gives us something more readable. \n",
    "$$ \\sigma(z) (1-\\sigma(z))$$\n",
    "Where $\\sigma(z) = {1 \\over 1 + e^{-z}}$\n",
    "#### (1.5.1.1.1).3 Combining Using Chain Rule\n",
    "To recap, we have found \n",
    "$$ {\\frac{\\partial l}{\\partial \\hat{y}}} = {-y_i \\over \\hat{y_i}} + {(1-y_i) \\over (1-\\hat{y_i})} $$\n",
    "And \n",
    "$$\\frac{\\partial \\hat{y_i}}{\\partial z} = \\hat{y_i} - (1-\\hat{y_i})$$\n",
    "After multiplying as a result of the chain rule we find\n",
    "$$ \\frac{\\partial l}{\\partial z} = \\hat{y_i} - y  $$\n",
    "### (1.5.1.1).2 Next find $\\frac{\\partial z}{\\partial w}$\n",
    "Since $$z = w^Tx_i+b$$\n",
    "then $$\\frac{\\partial z}{\\partial w} = x_i$$\n",
    "### (1.5.1.1).3 Concluding $l_i$\n",
    "$$ \\frac{\\partial l}{\\partial w}= \\frac{\\partial l}{\\partial z} * \\frac{\\partial z}{\\partial w} = (\\hat{y_i} - y )x_i$$\n",
    "Using $\\frac{\\partial l}{\\partial z}$ will also help for $b$\n",
    "$$ \\frac{\\partial l}{\\partial b} = \\frac{\\partial l}{\\partial z} * \\frac{\\partial z}{\\partial b} =  \\hat{y_i} - y  $$\n",
    "## (1.5.1).2 L2 Regularization derivation \n",
    "If the regularization term is \n",
    "$$ R(w) = \\lambda\\sum_{j=i}^{d} w_j^2 $$\n",
    "With Respect to $w$ and $b$ L2 Regularization is \n",
    "$$ \\frac{\\partial R}{\\partial w}= 2 \\lambda \\sum_{j=i}^{d} w_j $$\n",
    "$$ \\frac{\\partial R}{\\partial b} = 0 $$\n",
    "## (1.5.1).3 Conclusion\n",
    "The Gradient of $J$ with Respect to $w$ and $b$ is\n",
    "$$ J_{loss}(w,b) = \\sum_{i=1}^{N} l_i + R(w) $$\n",
    "Therefore the gradient of $J$ is \n",
    "$$ \\nabla J_{loss}(w,b) = (  \\frac{\\partial l}{\\partial w} + \\frac{\\partial R}{\\partial w}, \\frac{\\partial l}{\\partial b} + \\frac{\\partial R}{\\partial b} )$$\n",
    "\n",
    "With Respect to only $w$\n",
    "$$  \\nabla J_{loss}(w) = \\sum_{i=1}^{N}(\\hat{y_i} - y )x_i +  2 \\lambda \\sum_{j=i}^{d} w_j = \\sum_{i=1}^{N}( \\sigma (w^Tx_i) - y )x_i + 2 \\lambda \\sum_{j=i}^{d} w_j$$\n",
    "With Respect to only $b$\n",
    "$$  \\nabla J_{loss}(b) = \\sum_{i=1}^{N}(\\hat{y_i} - y ) = \\sum_{i=1}^{N}( \\sigma (w^Tx_i) - y )$$\n",
    "With Respect to both $w$ and $b$\n",
    "$$ \\nabla J_{loss}(w,b) = ([\\sum_{i=1}^{N}(\\hat{y_i} - y )x_i + 2 \\lambda \\sum_{j=i}^{d} w_j] , [\\sum_{i=1}^{N}(\\hat{y_i} - y ))  $$"
   ]
  },
  {
   "cell_type": "markdown",
   "metadata": {},
   "source": [
    "# 1.6 Logistic Regression Usage"
   ]
  },
  {
   "cell_type": "code",
   "execution_count": 8,
   "metadata": {},
   "outputs": [],
   "source": [
    "# see regression.py for implementation\n",
    "# Running the regression file `python regression.py` does this much faster. \n",
    "from regression import LogisticRegression"
   ]
  },
  {
   "cell_type": "markdown",
   "metadata": {},
   "source": [
    "## 1.6.1 Using Batch Gradient Descent"
   ]
  },
  {
   "cell_type": "markdown",
   "metadata": {},
   "source": [
    "Might Benefit from higher learning rate. "
   ]
  },
  {
   "cell_type": "code",
   "execution_count": 9,
   "metadata": {},
   "outputs": [
    {
     "name": "stdout",
     "output_type": "stream",
     "text": [
      "📬 Loaded SMS Spam data 📬 from file. With \n",
      " 5574 sentences and \n",
      " 5574 labels \n",
      "Using Method 🧠: batch\n",
      "Validation set evaluation: 📊\n",
      "Accuracy: 98.03% 🎯\n",
      "Precision: 0.98\n",
      "Recall: 0.85\n",
      "F1 Score: 0.91\n",
      "Test set evaluation: 📊\n",
      "Accuracy: 97.13% 🎯\n",
      "Precision: 0.98\n",
      "Recall: 0.82\n",
      "F1 Score: 0.89\n",
      "        Cost\n",
      "0   0.676931\n",
      "1   0.661410\n",
      "2   0.646528\n",
      "3   0.632248\n",
      "4   0.618537\n",
      "..       ...\n",
      "95  0.204695\n",
      "96  0.203221\n",
      "97  0.201769\n",
      "98  0.200338\n",
      "99  0.198928\n",
      "\n",
      "[100 rows x 1 columns]\n"
     ]
    },
    {
     "data": {
      "image/png": "[encoded data removed]",
      "text/plain": [
       "<Figure size 1000x600 with 1 Axes>"
      ]
     },
     "metadata": {},
     "output_type": "display_data"
    }
   ],
   "source": [
    "# Preprocess the data\n",
    "SMSSpam = SMSSpamPreprocessor()\n",
    "split_data = SMSSpam.get_data_splits()\n",
    "\n",
    "X_train, y_train = split_data[\"train\"]\n",
    "X_val, y_val = split_data[\"val\"]\n",
    "X_test, y_test = split_data[\"test\"]\n",
    "\n",
    "run_batch = True \n",
    "if run_batch:\n",
    "    alpha = 0.01 \n",
    "    max_iter = 100\n",
    "\n",
    "    # Train final model with the best lambda\n",
    "    lr_batch = LogisticRegression(learning_rate=alpha, num_iterations=max_iter)\n",
    "    w_batch, b_batch, cost_history_batch = lr_batch.fit(X_train, y_train, method=\"batch\") # \"stochastic\" | \"batch\" | \"mini_batch\" default is batch\n",
    "\n",
    "    # Evaluate on validation set\n",
    "    print(\"Validation set evaluation: 📊\")\n",
    "    lr_batch.evaluate(X_val, y_val, w_batch, b_batch)\n",
    "\n",
    "    # Evaluate on test set\n",
    "    print(\"Test set evaluation: 📊\")\n",
    "    lr_batch.evaluate(X_test, y_test, w_batch, b_batch)\n",
    "    lr_batch.pretty_print_cost_history(cost_history=cost_history_batch)\n"
   ]
  },
  {
   "cell_type": "markdown",
   "metadata": {},
   "source": [
    "## 1.6.2 Stocastic GD"
   ]
  },
  {
   "cell_type": "markdown",
   "metadata": {},
   "source": [
    "Low Loss value but sensitive to learning rate. Use small values. Early Stopping would also help here"
   ]
  },
  {
   "cell_type": "code",
   "execution_count": 10,
   "metadata": {},
   "outputs": [],
   "source": [
    "run_sto = False\n",
    "if run_sto:\n",
    "    alpha = 1e-5\n",
    "    max_iter = 100\n",
    "\n",
    "    # Train final model with the best lambda\n",
    "    lr_sto = LogisticRegression(learning_rate=alpha, num_iterations=max_iter)\n",
    "    w_sto, b_sto, cost_history_sto = lr_sto.fit(X_train, y_train, method=\"stochastic\") # \"stochastic\" | \"batch\" | \"mini_batch\"\n",
    "\n",
    "    # Evaluate on validation set\n",
    "    print(\"Validation set evaluation: 📊\")\n",
    "    lr_sto.evaluate(X_val, y=y_val, w=w_sto, b=b_sto)\n",
    "\n",
    "    # Evaluate on test set\n",
    "    print(\"Test set evaluation: 📊\")\n",
    "    lr_sto.evaluate(X_test, y=y_test, w=w_sto, b=b_sto)\n",
    "    lr_sto.pretty_print_cost_history(cost_history=cost_history_sto)"
   ]
  },
  {
   "cell_type": "markdown",
   "metadata": {},
   "source": [
    "## 1.6.3 Mini-Batch GD"
   ]
  },
  {
   "cell_type": "markdown",
   "metadata": {},
   "source": [
    "Early stopping would help here. Using a Slower Learning rate also to converge slower. "
   ]
  },
  {
   "cell_type": "code",
   "execution_count": 11,
   "metadata": {},
   "outputs": [],
   "source": [
    "run_mini = False\n",
    "if run_mini:\n",
    "    alpha = 1e-5\n",
    "    max_iter = 100\n",
    "\n",
    "    # Train final model with the best lambda\n",
    "    lr_mini = LogisticRegression(learning_rate=alpha, num_iterations=max_iter)\n",
    "    w_mini, b_mini, cost_history_mini = lr_mini.fit(X_train, y_train, method=\"mini_batch\") \n",
    "\n",
    "    # Evaluate on validation set\n",
    "    print(\"Validation set evaluation: 📊\")\n",
    "    lr_mini.evaluate(X_test=X_val, y=y_val, w=w_mini, b=b_mini)\n",
    "\n",
    "    # Evaluate on test set\n",
    "    print(\"Test set evaluation: 📊\")\n",
    "    lr_mini.evaluate(X_test, y=y_test, w=w_mini, b=b_mini)\n",
    "    lr_mini.pretty_print_cost_history(cost_history=cost_history_sto)"
   ]
  },
  {
   "cell_type": "markdown",
   "metadata": {},
   "source": [
    "# 1.7 Cross-Validation\n"
   ]
  },
  {
   "cell_type": "markdown",
   "metadata": {},
   "source": [
    "Test different learning rates with KFold Cross Validation batch GD, Best Lambda result: 0.01 "
   ]
  },
  {
   "cell_type": "code",
   "execution_count": 12,
   "metadata": {},
   "outputs": [
    {
     "name": "stdout",
     "output_type": "stream",
     "text": [
      "Using Method 🧠: batch\n",
      "Accuracy: 97.06% 🎯\n",
      "Precision: 0.98\n",
      "Recall: 0.80\n",
      "F1 Score: 0.88\n",
      "Using Method 🧠: batch\n",
      "Accuracy: 97.57% 🎯\n",
      "Precision: 1.00\n",
      "Recall: 0.80\n",
      "F1 Score: 0.89\n",
      "Using Method 🧠: batch\n",
      "Accuracy: 97.95% 🎯\n",
      "Precision: 1.00\n",
      "Recall: 0.85\n",
      "F1 Score: 0.92\n",
      "Using Method 🧠: batch\n",
      "Accuracy: 97.56% 🎯\n",
      "Precision: 0.99\n",
      "Recall: 0.82\n",
      "F1 Score: 0.90\n",
      "Using Method 🧠: batch\n",
      "Accuracy: 95.77% 🎯\n",
      "Precision: 0.95\n",
      "Recall: 0.74\n",
      "F1 Score: 0.84\n",
      "Lambda: 0.01, Average F1 Score: 0.88 📈\n",
      "Using Method 🧠: batch\n",
      "Accuracy: 97.06% 🎯\n",
      "Precision: 0.98\n",
      "Recall: 0.80\n",
      "F1 Score: 0.88\n",
      "Using Method 🧠: batch\n",
      "Accuracy: 97.57% 🎯\n",
      "Precision: 1.00\n",
      "Recall: 0.80\n",
      "F1 Score: 0.89\n",
      "Using Method 🧠: batch\n",
      "Accuracy: 97.95% 🎯\n",
      "Precision: 1.00\n",
      "Recall: 0.85\n",
      "F1 Score: 0.92\n",
      "Using Method 🧠: batch\n",
      "Accuracy: 97.56% 🎯\n",
      "Precision: 0.99\n",
      "Recall: 0.82\n",
      "F1 Score: 0.90\n",
      "Using Method 🧠: batch\n",
      "Accuracy: 95.77% 🎯\n",
      "Precision: 0.95\n",
      "Recall: 0.74\n",
      "F1 Score: 0.84\n",
      "Lambda: 0.05, Average F1 Score: 0.88 📈\n",
      "Using Method 🧠: batch\n",
      "Accuracy: 97.06% 🎯\n",
      "Precision: 0.98\n",
      "Recall: 0.80\n",
      "F1 Score: 0.88\n",
      "Using Method 🧠: batch\n",
      "Accuracy: 97.57% 🎯\n",
      "Precision: 1.00\n",
      "Recall: 0.80\n",
      "F1 Score: 0.89\n",
      "Using Method 🧠: batch\n",
      "Accuracy: 97.95% 🎯\n",
      "Precision: 1.00\n",
      "Recall: 0.85\n",
      "F1 Score: 0.92\n",
      "Using Method 🧠: batch\n",
      "Accuracy: 97.56% 🎯\n",
      "Precision: 0.99\n",
      "Recall: 0.82\n",
      "F1 Score: 0.90\n",
      "Using Method 🧠: batch\n",
      "Accuracy: 95.77% 🎯\n",
      "Precision: 0.95\n",
      "Recall: 0.74\n",
      "F1 Score: 0.84\n",
      "Lambda: 0.1, Average F1 Score: 0.88 📈\n",
      "Using Method 🧠: batch\n",
      "Accuracy: 97.06% 🎯\n",
      "Precision: 0.98\n",
      "Recall: 0.80\n",
      "F1 Score: 0.88\n",
      "Using Method 🧠: batch\n",
      "Accuracy: 97.57% 🎯\n",
      "Precision: 1.00\n",
      "Recall: 0.80\n",
      "F1 Score: 0.89\n",
      "Using Method 🧠: batch\n",
      "Accuracy: 97.95% 🎯\n",
      "Precision: 1.00\n",
      "Recall: 0.85\n",
      "F1 Score: 0.92\n",
      "Using Method 🧠: batch\n",
      "Accuracy: 97.56% 🎯\n",
      "Precision: 0.99\n",
      "Recall: 0.82\n",
      "F1 Score: 0.90\n",
      "Using Method 🧠: batch\n",
      "Accuracy: 95.77% 🎯\n",
      "Precision: 0.95\n",
      "Recall: 0.74\n",
      "F1 Score: 0.84\n",
      "Lambda: 0.5, Average F1 Score: 0.88 📈\n",
      "Using Method 🧠: batch\n",
      "Accuracy: 97.06% 🎯\n",
      "Precision: 0.98\n",
      "Recall: 0.80\n",
      "F1 Score: 0.88\n",
      "Using Method 🧠: batch\n",
      "Accuracy: 97.57% 🎯\n",
      "Precision: 1.00\n",
      "Recall: 0.80\n",
      "F1 Score: 0.89\n",
      "Using Method 🧠: batch\n",
      "Accuracy: 97.95% 🎯\n",
      "Precision: 1.00\n",
      "Recall: 0.85\n",
      "F1 Score: 0.92\n",
      "Using Method 🧠: batch\n",
      "Accuracy: 97.56% 🎯\n",
      "Precision: 0.99\n",
      "Recall: 0.82\n",
      "F1 Score: 0.90\n",
      "Using Method 🧠: batch\n",
      "Accuracy: 95.77% 🎯\n",
      "Precision: 0.95\n",
      "Recall: 0.74\n",
      "F1 Score: 0.84\n",
      "Lambda: 1.0, Average F1 Score: 0.88 📈\n",
      "Best Lambda: 0.01 👑\n"
     ]
    }
   ],
   "source": [
    "from regression import cross_validate_lambda\n",
    "# Define range of lambda values to test\n",
    "lambdas = [0.01, 0.05, 0.1, 0.5, 1.0]\n",
    "best_lambda = cross_validate_lambda(X_train, y_train, lambdas)\n",
    "print(f\"Best Lambda: {best_lambda} 👑\")"
   ]
  },
  {
   "cell_type": "markdown",
   "metadata": {},
   "source": [
    "# 1.7 Conclusion. "
   ]
  },
  {
   "cell_type": "markdown",
   "metadata": {},
   "source": [
    "## 1.7.1\n",
    "The confusion matrix shows that we are are overpredicting \"ham\" allowing unwanted spam messages to get through. Solutions for this:\n",
    "1. Raising the threshold can make the model more confident before classifying as ham, reducing false negatives. \n",
    "2. Assigning a higher weight to spam messages can help the model focus on correctly identifying them. \n",
    "3. Incorporating additional spam-indicative features like special characters, word frequency, or email metadata can improve classification.\n",
    "## 1.7.2\n",
    "In comparing the F1 scores, Stochastic Gradient Descent and batch Gradient Descent seem to produce the best results. Stochastic Gradient Descent has the best results of these two given the lower loss. However the predictions on the test set are very similar. "
   ]
  },
  {
   "cell_type": "code",
   "execution_count": 13,
   "metadata": {},
   "outputs": [
    {
     "data": {
      "image/png": "[encoded data removed]",
      "text/plain": [
       "<Figure size 640x480 with 2 Axes>"
      ]
     },
     "metadata": {},
     "output_type": "display_data"
    },
    {
     "ename": "NameError",
     "evalue": "name 'lr_sto' is not defined",
     "output_type": "error",
     "traceback": [
      "\u001b[0;31m---------------------------------------------------------------------------\u001b[0m",
      "\u001b[0;31mNameError\u001b[0m                                 Traceback (most recent call last)",
      "Cell \u001b[0;32mIn[13], line 2\u001b[0m\n\u001b[1;32m      1\u001b[0m lr_batch\u001b[38;5;241m.\u001b[39mget_confusion_matrix(X_test, y_test, w_batch, b_batch)\n\u001b[0;32m----> 2\u001b[0m \u001b[43mlr_sto\u001b[49m\u001b[38;5;241m.\u001b[39mget_confusion_matrix(X_test, y_test, w_sto, b_sto)\n\u001b[1;32m      3\u001b[0m lr_mini\u001b[38;5;241m.\u001b[39mget_confusion_matrix(X_test, y_test, w_mini, b_mini)\n",
      "\u001b[0;31mNameError\u001b[0m: name 'lr_sto' is not defined"
     ]
    }
   ],
   "source": [
    "lr_batch.get_confusion_matrix(X_test, y_test, w_batch, b_batch)\n",
    "lr_sto.get_confusion_matrix(X_test, y_test, w_sto, b_sto)\n",
    "lr_mini.get_confusion_matrix(X_test, y_test, w_mini, b_mini)"
   ]
  },
  {
   "cell_type": "markdown",
   "metadata": {},
   "source": [
    "# 1.8 Single Sentence Prediction. "
   ]
  },
  {
   "cell_type": "code",
   "execution_count": null,
   "metadata": {},
   "outputs": [
    {
     "name": "stdout",
     "output_type": "stream",
     "text": [
      "Predicting...🤖🤖\n",
      "Batch Gradient Descent Prediction: spam 🤖\n",
      "Stochastic Gradient Descent Prediction: spam 🤖\n",
      "Mini-Batch Gradient Descent Prediction: spam 🤖\n"
     ]
    }
   ],
   "source": [
    "from data_preprocessing import SparseMatrix\n",
    "SENTENCE = \" this is a spam message \" # Try me!\n",
    "print(\"Predicting...🤖🤖\")\n",
    "processed_sentence: SparseMatrix = SMSSpam.preprocess_single_sentence(sentence=SENTENCE)\n",
    "\n",
    "# Predict using the batch gradient descent model\n",
    "prediction_batch = lr_batch.predict(X_pred=processed_sentence, w=w_batch, b=b_batch)\n",
    "print(f\"Batch Gradient Descent Prediction: {'spam 🤖' if prediction_batch == 1 else 'ham 🍔'}\")\n",
    "\n",
    "# Predict using the stochastic gradient descent model\n",
    "prediction_sto = lr_sto.predict(X_pred=processed_sentence, w=w_sto, b=b_sto)\n",
    "print(f\"Stochastic Gradient Descent Prediction: {'spam 🤖' if prediction_sto == 1 else 'ham 🍔'}\")\n",
    "\n",
    "# Predict using the mini-batch gradient descent model\n",
    "prediction_mini = lr_mini.predict(X_pred=processed_sentence, w=w_mini, b=b_mini)\n",
    "print(f\"Mini-Batch Gradient Descent Prediction: {'spam 🤖' if prediction_mini == 1 else 'ham 🍔'}\")"
   ]
  },
  {
   "cell_type": "markdown",
   "metadata": {},
   "source": [
    "# 2 Multiclass Regression. "
   ]
  },
  {
   "cell_type": "code",
   "execution_count": null,
   "metadata": {},
   "outputs": [],
   "source": [
    "from multiclass_regression import MulticlassLogisticRegression\n",
    "from data_preprocessing import SparseMatrix"
   ]
  },
  {
   "cell_type": "markdown",
   "metadata": {},
   "source": [
    "# 2.1 EDA"
   ]
  },
  {
   "cell_type": "code",
   "execution_count": null,
   "metadata": {},
   "outputs": [
    {
     "name": "stdout",
     "output_type": "stream",
     "text": [
      "📬 Loaded Book data 📬 from file. With \n",
      " 19536 sentences and \n",
      " 19536 labels \n",
      "Unique Labels: {'Arthur Conan Doyle', 'Jane Austen', 'Fyodor Dostoyevsky'}\n"
     ]
    }
   ],
   "source": [
    "from data_preprocessing import BookPreprocessor\n",
    "data: BookPreprocessor = BookPreprocessor()\n",
    "split_data = (\n",
    "    data.get_data_splits()\n",
    ")\n",
    "X_train, y_train = split_data[\"train\"]\n",
    "X_val, y_val = split_data[\"val\"]\n",
    "X_test, y_test = split_data[\"test\"]"
   ]
  },
  {
   "cell_type": "code",
   "execution_count": null,
   "metadata": {},
   "outputs": [
    {
     "name": "stdout",
     "output_type": "stream",
     "text": [
      "        Cost\n",
      "0   0.723368\n",
      "1   0.596484\n",
      "2   0.518578\n",
      "3   0.464410\n",
      "4   0.423960\n",
      "..       ...\n",
      "95  0.111256\n",
      "96  0.110784\n",
      "97  0.110319\n",
      "98  0.109862\n",
      "99  0.109411\n",
      "\n",
      "[100 rows x 1 columns]\n"
     ]
    },
    {
     "data": {
      "image/png": "[encoded data removed]",
      "text/plain": [
       "<Figure size 1000x600 with 1 Axes>"
      ]
     },
     "metadata": {},
     "output_type": "display_data"
    },
    {
     "name": "stdout",
     "output_type": "stream",
     "text": [
      "Validation set evaluation: 📊\n",
      "Accuracy: 91.24% 🎯\n",
      "Test set evaluation: 📊\n",
      "Accuracy: 90.35% 🎯\n"
     ]
    },
    {
     "data": {
      "text/plain": [
       "{'accuracy': np.float64(90.35065267468646)}"
      ]
     },
     "execution_count": 17,
     "metadata": {},
     "output_type": "execute_result"
    }
   ],
   "source": [
    "# Convert to sparse matrices\n",
    "X_train = SparseMatrix(X_train)\n",
    "X_val = SparseMatrix(X_val)\n",
    "X_test = SparseMatrix(X_test)\n",
    "\n",
    "# Define range of lambda values to test\n",
    "lambdas = [0.01, 0.05, 0.1, 0.5, 1.0]\n",
    "\n",
    "# Perform cross-validation to select the best lambda\n",
    "# best_lambda: float | None = cross_validate_lambda(X_train, y_train, lambdas)\n",
    "# print(f\"Best Lambda: {best_lambda} 🏆\")\n",
    "\n",
    "best_lambda = 1e-3\n",
    "\n",
    "alpha = 1e-1\n",
    "max_iter = 100\n",
    "\n",
    "# Train final model with the best lambda\n",
    "mclr = MulticlassLogisticRegression(\n",
    "        learning_rate=alpha,\n",
    "        num_iterations=max_iter,\n",
    "        regularization_strength=best_lambda,\n",
    ")\n",
    "theta, cost_history = mclr.fit(X_train, y_train)\n",
    "mclr.pretty_print_cost_history(cost_history=cost_history)\n",
    "# Evaluate on validation set\n",
    "print(\"Validation set evaluation: 📊\")\n",
    "mclr.evaluate(X_test=X_val, y_test=y_val)\n",
    "# Evaluate on test set\n",
    "print(\"Test set evaluation: 📊\")\n",
    "mclr.evaluate(X_test, y_test)"
   ]
  },
  {
   "cell_type": "code",
   "execution_count": null,
   "metadata": {},
   "outputs": [
    {
     "data": {
      "image/png": "[encoded data removed]",
      "text/plain": [
       "<Figure size 640x480 with 2 Axes>"
      ]
     },
     "metadata": {},
     "output_type": "display_data"
    }
   ],
   "source": [
    "mclr.get_confusion_matrix(X_test, y_test)"
   ]
  },
  {
   "cell_type": "code",
   "execution_count": null,
   "metadata": {},
   "outputs": [
    {
     "name": "stdout",
     "output_type": "stream",
     "text": [
      "Predicted class: Fyodor Dostoyevsky 📚\n"
     ]
    }
   ],
   "source": [
    "SENTENCE_PREDICT = \" I hope this is from Fyodor. \"\n",
    "processed_sentence: SparseMatrix = data.preprocess_single_sentence(sentence=SENTENCE_PREDICT)\n",
    "# Predict the class\n",
    "predicted_class = mclr.predict(X_test=processed_sentence)\n",
    "labels = ['Arthur Conan Doyle', 'Fyodor Dostoyevsky', 'Jane Austen']\n",
    "if predicted_class == 0:\n",
    "    print(f\"Predicted class: {labels[0]} 📚\")\n",
    "elif predicted_class == 1:\n",
    "    print(f\"Predicted class: {labels[1]} 📚\")\n",
    "elif predicted_class == 2:\n",
    "    print(f\"Predicted class: {labels[2]} 📚\")\n"
   ]
  }
 ],
 "metadata": {
  "kernelspec": {
   "display_name": ".venv",
   "language": "python",
   "name": "python3"
  },
  "language_info": {
   "codemirror_mode": {
    "name": "ipython",
    "version": 3
   },
   "file_extension": ".py",
   "mimetype": "text/x-python",
   "name": "python",
   "nbconvert_exporter": "python",
   "pygments_lexer": "ipython3",
   "version": "3.12.8"
  }
 },
 "nbformat": 4,
 "nbformat_minor": 2
}
